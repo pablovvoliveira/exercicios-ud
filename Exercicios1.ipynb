{
  "nbformat": 4,
  "nbformat_minor": 0,
  "metadata": {
    "colab": {
      "provenance": [],
      "authorship_tag": "ABX9TyNA6+6bOcjzt5p4XHdLj29c",
      "include_colab_link": true
    },
    "kernelspec": {
      "name": "python3",
      "display_name": "Python 3"
    },
    "language_info": {
      "name": "python"
    }
  },
  "cells": [
    {
      "cell_type": "markdown",
      "metadata": {
        "id": "view-in-github",
        "colab_type": "text"
      },
      "source": [
        "<a href=\"https://colab.research.google.com/github/pablovvoliveira/exercicios-ud/blob/main/Exercicios1.ipynb\" target=\"_parent\"><img src=\"https://colab.research.google.com/assets/colab-badge.svg\" alt=\"Open In Colab\"/></a>"
      ]
    },
    {
      "cell_type": "markdown",
      "source": [
        "# Exercícios - Universidade dos Dados"
      ],
      "metadata": {
        "id": "DS56yfhSMY20"
      }
    },
    {
      "cell_type": "markdown",
      "source": [
        "1. Faça um programa que imprima \"Estou aprendendo Python!\" na tela."
      ],
      "metadata": {
        "id": "hRaA8561MUsj"
      }
    },
    {
      "cell_type": "code",
      "execution_count": null,
      "metadata": {
        "colab": {
          "base_uri": "https://localhost:8080/"
        },
        "id": "ObOWKGdfMBWy",
        "outputId": "49d8fd24-0e64-4903-82df-ed817866f2d1"
      },
      "outputs": [
        {
          "output_type": "stream",
          "name": "stdout",
          "text": [
            "Estou aprendendo Python\n"
          ]
        }
      ],
      "source": [
        "print('Estou aprendendo Python')"
      ]
    },
    {
      "cell_type": "markdown",
      "source": [
        "2. Faça um programa que peça ao usuário para digitar um número e, em seguida, imprima na tela a mensagem \"O número digitado foi ...\"\n"
      ],
      "metadata": {
        "id": "SlSb873dNdC7"
      }
    },
    {
      "cell_type": "code",
      "source": [
        "x = input(\"Digite um número: \")\n",
        "print(f\"O número digitado foi {x}\")"
      ],
      "metadata": {
        "colab": {
          "base_uri": "https://localhost:8080/"
        },
        "id": "MNSyJdqKNwcb",
        "outputId": "2170dffe-a909-4214-b3c9-305d4e18a8bb"
      },
      "execution_count": null,
      "outputs": [
        {
          "output_type": "stream",
          "name": "stdout",
          "text": [
            "Digite um número: 5\n",
            "O número digitado foi 5\n"
          ]
        }
      ]
    },
    {
      "cell_type": "markdown",
      "source": [
        "3. Faça um programa que peça ao usuário para digitar seu nome e, em seguida, imprima na tela a mensagem \"Olá, nome!\""
      ],
      "metadata": {
        "id": "bXbj_nn7N1sj"
      }
    },
    {
      "cell_type": "code",
      "source": [
        "nome = input(\"Digite seu nome: \")\n",
        "print(f\"Olá {nome}!\")"
      ],
      "metadata": {
        "colab": {
          "base_uri": "https://localhost:8080/"
        },
        "id": "611mUV0GN3ic",
        "outputId": "d8eab227-866f-49e8-82bc-1a6f9e590664"
      },
      "execution_count": null,
      "outputs": [
        {
          "output_type": "stream",
          "name": "stdout",
          "text": [
            "Digite seu nome: Pablo\n",
            "Olá Pablo\n"
          ]
        }
      ]
    },
    {
      "cell_type": "markdown",
      "source": [
        "4. Faça um programa que realize a soma e subtração de duas variáveis, sendo uma do tipo inteiro e outra do tipo decimal, exibindo o valor da soma e da subtração no seguinte formato: \"O valor da soma é: soma\" & \"O valor da subtração é: subtracao\"."
      ],
      "metadata": {
        "id": "Q5UqkZnNN_N6"
      }
    },
    {
      "cell_type": "code",
      "source": [
        "x = 5\n",
        "y = 2.5\n",
        "soma = x + y\n",
        "subtracao = x - y\n",
        "print(f\"O valor da soma é: {soma}\")\n",
        "print(f\"O valor da subtração é: {subtracao}\")"
      ],
      "metadata": {
        "colab": {
          "base_uri": "https://localhost:8080/"
        },
        "id": "T7-rQ8-rOD4i",
        "outputId": "9ee26730-f22f-48c0-c1e5-241cb91ac68c"
      },
      "execution_count": null,
      "outputs": [
        {
          "output_type": "stream",
          "name": "stdout",
          "text": [
            "O valor da soma é: 7.5\n",
            "O valor da subtração é: 2.5\n"
          ]
        }
      ]
    },
    {
      "cell_type": "markdown",
      "source": [
        "5. Faça um programa que receba a idade do usuário e retorne a idade dele somada em 10 anos no seguinte formato: Sua idade daqui a 10 anos será: <idade + 10 anos>."
      ],
      "metadata": {
        "id": "GEWLXYaWOOHT"
      }
    },
    {
      "cell_type": "code",
      "source": [
        "idade = input(\"Digite sua idade: \")\n",
        "print(f\"Sua idade daqui a 10 anos será: {int(idade) + 10}\")"
      ],
      "metadata": {
        "colab": {
          "base_uri": "https://localhost:8080/"
        },
        "id": "pdGlrTsLOSTb",
        "outputId": "81da73a9-125e-4ded-863b-d334c5b8410c"
      },
      "execution_count": null,
      "outputs": [
        {
          "output_type": "stream",
          "name": "stdout",
          "text": [
            "Digite sua idade: 28\n",
            "Sua idade daqui a 10 anos será: 38\n"
          ]
        }
      ]
    },
    {
      "cell_type": "markdown",
      "source": [
        "6. Faça um programa que leia algo digitado pelo usuário, mostre seu tipo e tudo a respeito dele (dica: utiliza as funções is)."
      ],
      "metadata": {
        "id": "6R6sRicvOZIS"
      }
    },
    {
      "cell_type": "code",
      "source": [
        "x = input(\"Digite algo: \")\n",
        "print(\"O tipo de x é:\", type(x))\n",
        "print(f\"O valor de x são dígitos? {x.isdigit()}\")\n",
        "print(f\"O valor de x é alfanumérico? {x.isalnum()}\")\n",
        "print(f\"O valor de x é alfabético? {x.isalpha()}\")\n",
        "print(f\"O valor de x está em maiúsculas? {x.isupper()}\")\n",
        "print(f\"O valor de x está em minúsculas? {x.islower()}\")\n",
        "print(f\"O valor de x é um espaço? {x.isspace()}\")"
      ],
      "metadata": {
        "colab": {
          "base_uri": "https://localhost:8080/"
        },
        "id": "susRdzKLOc4y",
        "outputId": "4ea7e932-74ba-4af5-e01a-0d0a0da0760d"
      },
      "execution_count": null,
      "outputs": [
        {
          "output_type": "stream",
          "name": "stdout",
          "text": [
            "Digite algo:  \n",
            "O tipo de x é: <class 'str'>\n",
            "O valor de x são dígitos? False\n",
            "O valor de x é alfanumérico? False\n",
            "O valor de x é alfabético? False\n",
            "O valor de x está em maiúsculas? False\n",
            "O valor de x está em minúsculas? False\n",
            "O valor de x é um espaço? True\n"
          ]
        }
      ]
    },
    {
      "cell_type": "markdown",
      "source": [
        "7. Faça um programa receba algo digitado pelo usuário e verifique se ele digitou alguma coisa, retornando True caso tenha e False caso não tenha."
      ],
      "metadata": {
        "id": "umcchoboPx36"
      }
    },
    {
      "cell_type": "code",
      "source": [
        "x = input(\"Digite algo: \")\n",
        "print(bool(x))"
      ],
      "metadata": {
        "colab": {
          "base_uri": "https://localhost:8080/"
        },
        "id": "0yRLRpRcP58a",
        "outputId": "1fdc4b4c-4cdc-40ae-ba8c-bdb7c1868bfe"
      },
      "execution_count": null,
      "outputs": [
        {
          "output_type": "stream",
          "name": "stdout",
          "text": [
            "Digite algo: \n",
            "False\n"
          ]
        }
      ]
    },
    {
      "cell_type": "markdown",
      "source": [
        "8. Faça um programa que receba os seguintes dados de um funcionário: nome, idade e salario. Na empresa que esse funcionário trabalha, seu salário é aumentado de ano em ano em R$ 800,90.\n",
        "\n",
        "Sabendo disso, imprima o nome, idade e salário do funcionário daqui a 1 ano no seguinte formato: \"O funcionário <nome>, daqui a 1 ano, terá <idade> anos, recebendo um salário igual a R$<salario>."
      ],
      "metadata": {
        "id": "f3Rdh1tAQB2J"
      }
    },
    {
      "cell_type": "code",
      "source": [
        "nome = input(\"Digite seu nome: \")\n",
        "idade = input(\"Digite sua idade: \")\n",
        "salario = input(\"Digite seu salário: \")\n",
        "print(f\"O funcionário {nome} daqui a 1 ano, terá {int(idade) + 1} anos, recebendo um salário igual a R$ {float(salario) + 800.90:.2f}\")"
      ],
      "metadata": {
        "colab": {
          "base_uri": "https://localhost:8080/"
        },
        "id": "YeLQy9xkQHEZ",
        "outputId": "03063f48-9602-4a24-d06d-c3246eaffaa5"
      },
      "execution_count": null,
      "outputs": [
        {
          "output_type": "stream",
          "name": "stdout",
          "text": [
            "Digite seu nome: Pablo\n",
            "Digite sua idade: 28\n",
            "Digite seu salário: 2500\n",
            "O funcionário Pablo daqui a 1 ano, terá 29 anos, recebendo um salário igual a R$ 3300.90\n"
          ]
        }
      ]
    },
    {
      "cell_type": "markdown",
      "source": [
        "9. Faça um programa que peça ao usuário para digitar dois números e mostre na tela o resultado da soma, subtração, multiplicação, divisão e resto da divisão desses números."
      ],
      "metadata": {
        "id": "rTpNIBb-VBIx"
      }
    },
    {
      "cell_type": "code",
      "source": [
        "a = float(input(\"Digite o primeiro número: \"))\n",
        "b = float(input(\"Digite o segundo número: \"))\n",
        "print(f\"A soma dos números é: {a + b}\" )\n",
        "print(f\"A subtração dos números é: {a - b}\")\n",
        "print(f\"A multiplicação dos números é: {a * b}\")\n",
        "print(f\"A divisão dos números é: {a / b}\")\n",
        "print(f\"O resto da divisão dos números é: {a % b}\")"
      ],
      "metadata": {
        "colab": {
          "base_uri": "https://localhost:8080/"
        },
        "id": "DG32e_wQVDyp",
        "outputId": "70d7b7c2-62cb-4a0c-8167-bdb8c445fde8"
      },
      "execution_count": null,
      "outputs": [
        {
          "output_type": "stream",
          "name": "stdout",
          "text": [
            "Digite o primeiro número: 6.44\n",
            "Digite o segundo número: 5\n",
            "A soma dos números é: 11.440000000000001\n",
            "A subtração dos números é: 1.4400000000000004\n",
            "A multiplicação dos números é: 32.2\n",
            "A divisão dos números é: 1.288\n",
            "O resto da divisão dos números é: 1.4400000000000004\n"
          ]
        }
      ]
    },
    {
      "cell_type": "markdown",
      "source": [
        "10. Faça um programa que peça ao usuário o raio de um círculo e exiba na tela a área e o perímetro desse círculo (considere pi = 3.14). Aproxime para 2 casas decimais."
      ],
      "metadata": {
        "id": "fTaH-FLBSCec"
      }
    },
    {
      "cell_type": "code",
      "source": [
        "raio = float(input(\"Informe o raio do círculo: \"))\n",
        "pi = 3.14\n",
        "area = pi * raio ** 2\n",
        "perimetro = 2 * pi * raio\n",
        "print(f\"A área do círculo é {area:.2f} e o perímetro é {perimetro:.2f}\")\n"
      ],
      "metadata": {
        "colab": {
          "base_uri": "https://localhost:8080/"
        },
        "id": "XrYXiM_qSGyT",
        "outputId": "d0c34913-5eb8-457b-8032-8421521a0fce"
      },
      "execution_count": null,
      "outputs": [
        {
          "output_type": "stream",
          "name": "stdout",
          "text": [
            "Informe o raio do círculo: 4\n",
            "A área do círculo é 50.24 e o perímetro é 25.12\n"
          ]
        }
      ]
    },
    {
      "cell_type": "markdown",
      "source": [
        "11. Faça um programa que peça ao usuário o preço de um produto e exiba o preço com um desconto de 10%."
      ],
      "metadata": {
        "id": "l63d_-yLTQ8r"
      }
    },
    {
      "cell_type": "code",
      "source": [
        "preco = float(input(\"Informe o valor do produto: $ \"))\n",
        "preco_desconto = preco * 0.9\n",
        "print(f\"Valor do produto com desconto de 10%: $ {preco_desconto:.2f}\")\n"
      ],
      "metadata": {
        "colab": {
          "base_uri": "https://localhost:8080/"
        },
        "id": "j09R29q-TRoq",
        "outputId": "505be59e-e049-40c3-9903-159f5c46f3d9"
      },
      "execution_count": null,
      "outputs": [
        {
          "output_type": "stream",
          "name": "stdout",
          "text": [
            "Informe o valor do produto: $ 59\n",
            "Valor do produto com desconto de 10%: $ 53.10\n"
          ]
        }
      ]
    },
    {
      "cell_type": "markdown",
      "source": [
        "12. Faça um programa que leia a temperatura em graus Celsius e exiba a temperatura em graus Fahrenheit. A fórmula para converter de Celsius para Fahrenheit é: F = (9/5)*C + 32."
      ],
      "metadata": {
        "id": "LZxv-PrATl66"
      }
    },
    {
      "cell_type": "code",
      "source": [
        "C = float(input(\"Informe a temperatura em graus Celsius: \"))\n",
        "F = (9/5) * C + 32\n",
        "print(f\"A temperatura em Fahrenheit é: {F:.2f}\")"
      ],
      "metadata": {
        "colab": {
          "base_uri": "https://localhost:8080/"
        },
        "id": "k9NZeoqmTofz",
        "outputId": "df03f64a-1c13-4662-d1c9-3f959131c26d"
      },
      "execution_count": null,
      "outputs": [
        {
          "output_type": "stream",
          "name": "stdout",
          "text": [
            "Informe a temperatura em graus Celsius: 27\n",
            "A temperatura em graus Fahrenheit é: 80.60\n"
          ]
        }
      ]
    },
    {
      "cell_type": "markdown",
      "source": [
        "13. Faça um programa que peça ao usuário para digitar 3 números inteiros e exiba a média aritmética desses números. Aproxime para 1 casa decimal."
      ],
      "metadata": {
        "id": "uj0ZnH20U6Ja"
      }
    },
    {
      "cell_type": "code",
      "source": [
        "x = float(input(\"Digite o primeiro número: \"))\n",
        "y = float(input(\"Digite o segundo número: \"))\n",
        "z = float(input(\"Digite o terceiro número: \"))\n",
        "media = (x + y + z) / 3\n",
        "print(f\"A média aritmética dos números é: {media:.1f}\")"
      ],
      "metadata": {
        "colab": {
          "base_uri": "https://localhost:8080/"
        },
        "id": "VtSoQhqKU7Gi",
        "outputId": "42180b18-d238-49fb-ce44-2b1e06f1ac06"
      },
      "execution_count": null,
      "outputs": [
        {
          "output_type": "stream",
          "name": "stdout",
          "text": [
            "Digite o primeiro número: 1\n",
            "Digite o segundo número: 2\n",
            "Digite o terceiro número: 3\n",
            "A média aritmética dos números é: 2.0\n"
          ]
        }
      ]
    },
    {
      "cell_type": "markdown",
      "source": [
        "14. Faça um programa que leia o peso e a altura de uma pessoa e exiba o índice de massa corporal (IMC) dela. A fórmula para calcular o IMC é: IMC = peso/altura², com aproximação em 3 casas decimais."
      ],
      "metadata": {
        "id": "pl87Esq5VMji"
      }
    },
    {
      "cell_type": "code",
      "source": [
        "peso = float(input(\"Informe o peso(kg): \"))\n",
        "altura = float(input(\"Informe a altura(m): \"))\n",
        "imc = peso / altura ** 2\n",
        "print(f\"O IMC é: {imc:.3f}\")"
      ],
      "metadata": {
        "colab": {
          "base_uri": "https://localhost:8080/"
        },
        "id": "Wchs10ZrVNOS",
        "outputId": "95c5cda8-a8da-4aa9-af63-0b37b19a5007"
      },
      "execution_count": null,
      "outputs": [
        {
          "output_type": "stream",
          "name": "stdout",
          "text": [
            "Informe o peso(kg): 82\n",
            "Informe a altura(m): 1.77\n",
            "O IMC é: 26.174\n"
          ]
        }
      ]
    },
    {
      "cell_type": "markdown",
      "source": [
        "15. Faça um programa que leia dois números inteiros do usuário e troque seus valores, ou seja, se o primeiro número for 5 e o segundo número for 7, o programa deve fazer com que o primeiro número seja igual a 7 e o segundo número seja igual a 5."
      ],
      "metadata": {
        "id": "call0gTwWMpC"
      }
    },
    {
      "cell_type": "code",
      "source": [
        "x = input(\"Digite o primeiro número: \")\n",
        "y = input(\"Digite o segundo número: \")\n",
        "x, y = y, x\n",
        "print(f\"O primeiro número é {x} e o segundo número é {y}\")"
      ],
      "metadata": {
        "colab": {
          "base_uri": "https://localhost:8080/"
        },
        "id": "BXVGR2s2WOhq",
        "outputId": "a15e2b52-e034-4d6e-d2f4-0161887903f7"
      },
      "execution_count": null,
      "outputs": [
        {
          "output_type": "stream",
          "name": "stdout",
          "text": [
            "Digite o primeiro número: 5\n",
            "Digite o segundo número: 7\n",
            "O primeiro número é 7 e o segundo número é 5\n"
          ]
        }
      ]
    },
    {
      "cell_type": "markdown",
      "source": [
        "16. Escreva um programa Python que leia um número inteiro e verifique se ele é par ou ímpar."
      ],
      "metadata": {
        "id": "UQfzNp0NW-w6"
      }
    },
    {
      "cell_type": "code",
      "source": [
        "x = input(\"Digite um número: \")\n",
        "if int(x) % 2 == 0:\n",
        "    print(f\"{x} é par\")\n",
        "else:\n",
        "    print(f\"{x} é ímpar\")"
      ],
      "metadata": {
        "colab": {
          "base_uri": "https://localhost:8080/"
        },
        "id": "lpss67xBW-Wi",
        "outputId": "880501d8-6170-4b8a-98eb-ae64d8fe1ff7"
      },
      "execution_count": null,
      "outputs": [
        {
          "output_type": "stream",
          "name": "stdout",
          "text": [
            "Digite um número: 184801\n",
            "184801 é ímpar\n"
          ]
        }
      ]
    },
    {
      "cell_type": "markdown",
      "source": [
        "17. Escreva um programa Python que leia um número e retorne seu quadrado, sua raiz quadrada e sua raiz cúbica, com aproximação em 2 casas decimais."
      ],
      "metadata": {
        "id": "oNnYI6MZXbVq"
      }
    },
    {
      "cell_type": "code",
      "source": [
        "x = float(input(\"Digite um número: \"))\n",
        "quadrado = x ** 2\n",
        "raiz_quadrada = x ** 0.5\n",
        "raiz_cubica = x ** (1/3)\n",
        "print(f\"Quadrado: {quadrado:.2f}\")\n",
        "print(f\"Raiz quadrada: {raiz_quadrada:.2f}\")\n",
        "print(f\"Raiz cúbica: {raiz_cubica:.2f}\")"
      ],
      "metadata": {
        "colab": {
          "base_uri": "https://localhost:8080/"
        },
        "id": "-vUVIj-MXcGy",
        "outputId": "1b838579-e33f-4f9c-bc0a-b2761c82f62c"
      },
      "execution_count": null,
      "outputs": [
        {
          "output_type": "stream",
          "name": "stdout",
          "text": [
            "Digite um número: 5\n",
            "Quadrado: 25.00\n",
            "Raiz quadrada: 2.24\n",
            "Raiz cúbica: 1.71\n"
          ]
        }
      ]
    },
    {
      "cell_type": "markdown",
      "source": [
        "18. Escreva um programa Python que leia o valor de dois catetos e retorne o valor da hipotenusa, assumindo que seja possível formar um triângulo."
      ],
      "metadata": {
        "id": "Xjh6fttTYJ0S"
      }
    },
    {
      "cell_type": "code",
      "source": [
        "cateto1 = float(input(\"Digite o valor do primeiro cateto: \"))\n",
        "cateto2 = float(input(\"Digite o valor do segundo cateto: \"))\n",
        "hipotenusa = (cateto1 ** 2 + cateto2 ** 2) ** 0.5\n",
        "print(f\"Hipotenusa: {hipotenusa:.2f}\")"
      ],
      "metadata": {
        "colab": {
          "base_uri": "https://localhost:8080/"
        },
        "id": "b9HsR0TMYKva",
        "outputId": "5ee68824-9362-4b2a-e6ec-9bb1b30bf55b"
      },
      "execution_count": null,
      "outputs": [
        {
          "output_type": "stream",
          "name": "stdout",
          "text": [
            "Digite o valor do primeiro cateto: 5\n",
            "Digite o valor do segundo cateto: 7\n",
            "Hipotenusa: 8.60\n"
          ]
        }
      ]
    }
  ]
}