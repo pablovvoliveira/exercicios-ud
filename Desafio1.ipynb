{
  "nbformat": 4,
  "nbformat_minor": 0,
  "metadata": {
    "colab": {
      "provenance": [],
      "authorship_tag": "ABX9TyNCZaOw1tZ2C6dCb9Tc1fx7",
      "include_colab_link": true
    },
    "kernelspec": {
      "name": "python3",
      "display_name": "Python 3"
    },
    "language_info": {
      "name": "python"
    }
  },
  "cells": [
    {
      "cell_type": "markdown",
      "metadata": {
        "id": "view-in-github",
        "colab_type": "text"
      },
      "source": [
        "<a href=\"https://colab.research.google.com/github/pablovvoliveira/exercicios-ud/blob/main/Desafio1.ipynb\" target=\"_parent\"><img src=\"https://colab.research.google.com/assets/colab-badge.svg\" alt=\"Open In Colab\"/></a>"
      ]
    },
    {
      "cell_type": "markdown",
      "source": [
        "# Desafios de Python\n",
        "\n",
        "**Desafio 1:** Você precisa de uma função que irá receber um array de inteiros, nums, de comprimento n que abrange de 0 a n com um número faltando. Escreva uma função missing_number que retorna o número faltando no array."
      ],
      "metadata": {
        "id": "6-hIlfVsqlse"
      }
    },
    {
      "cell_type": "code",
      "source": [
        "def missing_number(nums):\n",
        "    n = len(nums)\n",
        "    expected_sum = n * (n + 1) // 2\n",
        "    actual_sum = sum(nums)\n",
        "    return expected_sum - actual_sum\n",
        "\n",
        "result = missing_number([1, 2, 4])\n",
        "print(result)\n"
      ],
      "metadata": {
        "colab": {
          "base_uri": "https://localhost:8080/"
        },
        "id": "3b14lRtBqzcW",
        "outputId": "060cfe53-1415-48fc-c0cb-fe81a25f66cb"
      },
      "execution_count": 16,
      "outputs": [
        {
          "output_type": "stream",
          "name": "stdout",
          "text": [
            "-1\n"
          ]
        }
      ]
    },
    {
      "cell_type": "markdown",
      "source": [
        "**Desafio 2:** ​Crie uma função chamada maior_diferenca que recebe uma lista de números como parâmetro e retorna a diferença entre o maior e o menor número na lista.\n",
        "\n",
        "Para facilitar, vamos assumir que nenhum número é menor ou maior que -100 e 100."
      ],
      "metadata": {
        "id": "P59aoAMl3jsF"
      }
    },
    {
      "cell_type": "code",
      "source": [
        "def maior_diferenca(lista):\n",
        "      maior = max(lista)\n",
        "      menor = min(lista)\n",
        "      diferenca = maior - menor\n",
        "      return diferenca\n",
        "\n",
        "lista = [5,10,20,15,30]\n",
        "print(maior_diferenca(lista))"
      ],
      "metadata": {
        "colab": {
          "base_uri": "https://localhost:8080/"
        },
        "id": "uNjUf6-L3qpr",
        "outputId": "8d90c991-8e39-4204-80bf-3425a016a811"
      },
      "execution_count": 19,
      "outputs": [
        {
          "output_type": "stream",
          "name": "stdout",
          "text": [
            "25\n"
          ]
        }
      ]
    },
    {
      "cell_type": "markdown",
      "source": [
        "**Desafio 3:** ​A partir de um dicionário contendo o status de conexão de indivíduos, determinar quantas pessoas estão com o status online.\n",
        "\n",
        "Veja o exemplo de dicionário abaixo:\n",
        "\n",
        "statuses = { \"Alice\": \"online\", \"Bob\": \"offline\", \"Eve\": \"online\", }\n",
        "\n",
        "Com base nesse exemplo, o total de indivíduos com o status online é 2.\n",
        "\n",
        "Desenvolva uma função chamada online_count. Essa função deve aceitar um único parâmetro: um dicionário onde as chaves são nomes representados por strings e os valores são as strings \"online\" ou \"offline\", conforme ilustrado anteriormente.\n",
        "\n",
        "A função deve devolver a quantidade de pessoas que se encontram online."
      ],
      "metadata": {
        "id": "wqanzvpf4Gi9"
      }
    },
    {
      "cell_type": "code",
      "source": [
        "def online_count(statuses):\n",
        "    return sum(1 for status in statuses.values() if status == \"online\")\n",
        "\n",
        "statuses = { \"Alice\": \"online\", \"Bob\": \"offline\", \"Eve\": \"online\", }\n",
        "print(online_count(statuses))"
      ],
      "metadata": {
        "colab": {
          "base_uri": "https://localhost:8080/"
        },
        "id": "-HGCmuJT4QLD",
        "outputId": "2b0c2f2d-3440-46e5-aad4-e971ea118d78"
      },
      "execution_count": 20,
      "outputs": [
        {
          "output_type": "stream",
          "name": "stdout",
          "text": [
            "2\n"
          ]
        }
      ]
    }
  ]
}